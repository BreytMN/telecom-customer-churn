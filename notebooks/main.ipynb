{
 "cells": [
  {
   "cell_type": "code",
   "execution_count": null,
   "metadata": {},
   "outputs": [],
   "source": [
    "import pandas as pd\n",
    "\n",
    "from libs import ConformalClassifier, LGBMultiClassifier, AdaptativeConformalClassifier\n",
    "from libs.utils import train_calib_valid_split\n",
    "\n",
    "label = \"Churn Category\"\n",
    "drop = [\"City\", \"Zip Code\", \"Latitude\", \"Longitude\", \"Customer Status\", \"Churn Reason\"]\n",
    "\n",
    "df = pd.read_csv(\"data/telecom_customer_churn.csv\", index_col=\"Customer ID\")\n",
    "df = df.drop(drop, axis=1)\n",
    "df[label] = df[label].fillna(\"Stayed\")\n",
    "object_cols = df.select_dtypes(\"object\").columns\n",
    "df[object_cols] = df[object_cols].astype(\"category\")\n",
    "\n",
    "\n",
    "train, calib, valid = train_calib_valid_split(df)"
   ]
  },
  {
   "cell_type": "code",
   "execution_count": null,
   "metadata": {},
   "outputs": [],
   "source": [
    "model = LGBMultiClassifier()\n",
    "conformal_model = ConformalClassifier(model)\n",
    "conformal_model.train(train, calib, valid, label)\n",
    "conformal_model.calibrate(calib)\n",
    "preds = conformal_model.predict(valid)\n",
    "\n",
    "preds"
   ]
  },
  {
   "cell_type": "code",
   "execution_count": null,
   "metadata": {},
   "outputs": [],
   "source": [
    "model = LGBMultiClassifier()\n",
    "conformal_model = AdaptativeConformalClassifier(model)\n",
    "conformal_model.train(train, calib, valid, label)\n",
    "conformal_model.calibrate(calib)\n",
    "preds = conformal_model.predict(valid)\n",
    "\n",
    "preds"
   ]
  }
 ],
 "metadata": {
  "kernelspec": {
   "display_name": ".venv",
   "language": "python",
   "name": "python3"
  },
  "language_info": {
   "codemirror_mode": {
    "name": "ipython",
    "version": 3
   },
   "file_extension": ".py",
   "mimetype": "text/x-python",
   "name": "python",
   "nbconvert_exporter": "python",
   "pygments_lexer": "ipython3",
   "version": "3.13.3"
  }
 },
 "nbformat": 4,
 "nbformat_minor": 2
}
